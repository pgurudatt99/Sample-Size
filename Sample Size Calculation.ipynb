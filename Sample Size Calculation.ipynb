{
 "cells": [
  {
   "cell_type": "code",
   "execution_count": 43,
   "id": "43696cf9",
   "metadata": {},
   "outputs": [
    {
     "name": "stdout",
     "output_type": "stream",
     "text": [
      "Enter SD: 7\n",
      "Enter Margin of Error: 2\n",
      "Sample size: 48\n"
     ]
    }
   ],
   "source": [
    "#Calculation of Sample Size by using population mean\n",
    "\n",
    "import math\n",
    "import numpy as np\n",
    "from scipy import stats\n",
    "import pandas as pd\n",
    "\n",
    "def calculate_sample_size(population_std_dev, confidence_level, margin_of_error):\n",
    "    sample_size = ((z_score * population_std_dev) / margin_of_error) ** 2\n",
    "    return math.ceil(sample_size)\n",
    "z_score = 1.96\n",
    "population_std_dev = float(input ('Enter SD: '))\n",
    "margin_of_error = float(input ('Enter Margin of Error: ')) # use 5%, 10%, 15% or max 20% of mean\n",
    "confidence_level = 0.95\n",
    "sample_size = calculate_sample_size(population_std_dev, confidence_level, margin_of_error)\n",
    "print(f\"Sample size: {sample_size}\")"
   ]
  },
  {
   "cell_type": "code",
   "execution_count": 45,
   "id": "ea35bbe6",
   "metadata": {},
   "outputs": [
    {
     "name": "stdout",
     "output_type": "stream",
     "text": [
      "Enter population proportion or prevalance: 30\n",
      "Enter Margin of Error: 6\n",
      "Sample size: 225\n"
     ]
    }
   ],
   "source": [
    "#Calculation of Sample Size by using population proportion or prevalence\n",
    "import math\n",
    "import numpy as np\n",
    "from scipy import stats\n",
    "import pandas as pd\n",
    "\n",
    "def calculate_sample_size(population_proportion, confidence_level, margin_of_error):\n",
    "    sample_size = (z_score * z_score * population_proportion * (100-population_proportion)) / (margin_of_error*margin_of_error)\n",
    "    return math.ceil(sample_size)\n",
    "\n",
    "population_proportion = float(input ('Enter population proportion or prevalance: ')) # value in terms of percentage\n",
    "margin_of_error = float(input ('Enter Margin of Error: ')) # use 5%, 10%, 15% or max 20% of proportion\n",
    "confidence_level = 0.95\n",
    "z_score = 1.96\n",
    "sample_size = calculate_sample_size(population_proportion, confidence_level, margin_of_error)\n",
    "print(f\"Sample size: {sample_size}\")"
   ]
  },
  {
   "cell_type": "code",
   "execution_count": 46,
   "id": "4f9358ad",
   "metadata": {},
   "outputs": [
    {
     "name": "stdout",
     "output_type": "stream",
     "text": [
      "Number in first group: 100\n",
      "Number in second group: 50\n",
      "Enter SD for first group: 2\n",
      "Enter SD for second group: 3\n",
      "Enter Margin of Error: 1\n",
      "Pooled SD: 2.37810962855067\n",
      "Sample size: 89\n"
     ]
    }
   ],
   "source": [
    "#Calculation of Sample Size to test the difference between two population means\n",
    "#Objective: Testing null hypothesis: M1=M2\n",
    "\n",
    "import math\n",
    "import numpy as np\n",
    "from scipy import stats \n",
    "import pandas as pd\n",
    "\n",
    "def calculate_sample_size(pooled_std_dev, confidence_level, margin_of_error):\n",
    "    numerator = 2*((z_score_alpha + z_score_bita)*pooled_std_dev)**2\n",
    "    denominator = (margin_of_error)**2\n",
    "    sample_size = numerator/denominator   \n",
    "    return math.ceil(sample_size)\n",
    "z_score_alpha = 1.96\n",
    "z_score_bita = 0.84\n",
    "confidence_level = 0.95\n",
    "n1=float(input('Number in first group: '))\n",
    "n2=float(input('Number in second group: '))\n",
    "SD1=float(input ('Enter SD for first group: '))\n",
    "SD2=float(input('Enter SD for second group: '))\n",
    "pooled_std_dev = (((n1-1)*SD1**2+(n2-1)*SD2**2)/(n1+n2-2))**0.5\n",
    "margin_of_error = float(input ('Enter Margin of Error: ')) # use value less than or equal to difference of two means m1-m2\n",
    "sample_size = calculate_sample_size(pooled_std_dev, confidence_level, margin_of_error)\n",
    "print(f\"Pooled SD: {pooled_std_dev}\")\n",
    "print(f\"Sample size: {sample_size}\")"
   ]
  },
  {
   "cell_type": "code",
   "execution_count": 47,
   "id": "92fe4d03",
   "metadata": {},
   "outputs": [
    {
     "name": "stdout",
     "output_type": "stream",
     "text": [
      "Proportion in first group: 80\n",
      "Proportion in second group: 60\n",
      "Enter Margin of Error: 20\n",
      "Sample size: 79\n"
     ]
    }
   ],
   "source": [
    "#Calculation of Sample Size to test the difference between two population proportions\n",
    "#Objective: Testing null hypothesis: P1=P2\n",
    "\n",
    "import math\n",
    "import numpy as np\n",
    "from scipy import stats \n",
    "import pandas as pd\n",
    "\n",
    "def calculate_sample_size(proportion, margin_of_error):\n",
    "    numerator = (p1*(100-p1)+p2*(100-p2))*((z_score_alpha + z_score_bita)**2)\n",
    "    denominator = (margin_of_error)**2\n",
    "    sample_size = numerator/denominator   \n",
    "    return math.ceil(sample_size)\n",
    "z_score_alpha = 1.96\n",
    "z_score_bita = 0.84\n",
    "confidence_level = 0.95\n",
    "p1=float(input('Proportion in first group: '))\n",
    "p2=float(input('Proportion in second group: '))\n",
    "proportion=abs((p1+p2)/2)\n",
    "margin_of_error = float(input ('Enter Margin of Error: ')) # use value less than or equal to difference of two means p1-p2\n",
    "sample_size = calculate_sample_size(proportion, margin_of_error)\n",
    "print(f\"Sample size: {sample_size}\")"
   ]
  },
  {
   "cell_type": "code",
   "execution_count": null,
   "id": "5c09215a",
   "metadata": {},
   "outputs": [],
   "source": []
  },
  {
   "cell_type": "code",
   "execution_count": null,
   "id": "c73e9ee7",
   "metadata": {},
   "outputs": [],
   "source": []
  },
  {
   "cell_type": "code",
   "execution_count": null,
   "id": "339c1c7b",
   "metadata": {},
   "outputs": [],
   "source": []
  },
  {
   "cell_type": "code",
   "execution_count": null,
   "id": "f51f0a7e",
   "metadata": {},
   "outputs": [],
   "source": []
  },
  {
   "cell_type": "code",
   "execution_count": null,
   "id": "d18a53c6",
   "metadata": {},
   "outputs": [],
   "source": []
  },
  {
   "cell_type": "code",
   "execution_count": null,
   "id": "57c67754",
   "metadata": {},
   "outputs": [],
   "source": []
  },
  {
   "cell_type": "code",
   "execution_count": null,
   "id": "f770a2ec",
   "metadata": {},
   "outputs": [],
   "source": []
  },
  {
   "cell_type": "code",
   "execution_count": null,
   "id": "6bf18ca7",
   "metadata": {},
   "outputs": [],
   "source": []
  },
  {
   "cell_type": "code",
   "execution_count": null,
   "id": "37f7715e",
   "metadata": {},
   "outputs": [],
   "source": []
  },
  {
   "cell_type": "code",
   "execution_count": null,
   "id": "82701465",
   "metadata": {},
   "outputs": [],
   "source": []
  },
  {
   "cell_type": "code",
   "execution_count": null,
   "id": "4eb56d6b",
   "metadata": {},
   "outputs": [],
   "source": []
  },
  {
   "cell_type": "code",
   "execution_count": null,
   "id": "65a14d5e",
   "metadata": {},
   "outputs": [],
   "source": []
  },
  {
   "cell_type": "code",
   "execution_count": null,
   "id": "e42aa2e2",
   "metadata": {},
   "outputs": [],
   "source": []
  },
  {
   "cell_type": "code",
   "execution_count": null,
   "id": "bba8da06",
   "metadata": {},
   "outputs": [],
   "source": []
  },
  {
   "cell_type": "code",
   "execution_count": null,
   "id": "b5cafa30",
   "metadata": {},
   "outputs": [],
   "source": []
  },
  {
   "cell_type": "code",
   "execution_count": null,
   "id": "122d5ade",
   "metadata": {},
   "outputs": [],
   "source": []
  },
  {
   "cell_type": "code",
   "execution_count": null,
   "id": "759bb52d",
   "metadata": {},
   "outputs": [],
   "source": []
  },
  {
   "cell_type": "code",
   "execution_count": null,
   "id": "43293cc5",
   "metadata": {},
   "outputs": [],
   "source": []
  },
  {
   "cell_type": "code",
   "execution_count": null,
   "id": "69b184c1",
   "metadata": {},
   "outputs": [],
   "source": []
  }
 ],
 "metadata": {
  "kernelspec": {
   "display_name": "Python 3 (ipykernel)",
   "language": "python",
   "name": "python3"
  },
  "language_info": {
   "codemirror_mode": {
    "name": "ipython",
    "version": 3
   },
   "file_extension": ".py",
   "mimetype": "text/x-python",
   "name": "python",
   "nbconvert_exporter": "python",
   "pygments_lexer": "ipython3",
   "version": "3.9.13"
  }
 },
 "nbformat": 4,
 "nbformat_minor": 5
}
